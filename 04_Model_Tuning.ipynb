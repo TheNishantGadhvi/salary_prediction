{
 "cells": [
  {
   "cell_type": "code",
   "execution_count": 1,
   "metadata": {},
   "outputs": [],
   "source": [
    "from __future__ import absolute_import\n",
    "from __future__ import division\n",
    "from __future__ import print_function\n",
    "\n",
    "# Import our helper functions\n",
    "import sys\n",
    "sys.path.insert(0, './helpers')\n",
    "from preprocessor import PreProcessor\n",
    "\n",
    "%matplotlib inline\n",
    "import matplotlib.pyplot as plt\n",
    "import pandas as pd\n",
    "import numpy as np\n",
    "from sklearn.ensemble import RandomForestRegressor\n",
    "from sklearn.model_selection import train_test_split\n",
    "from sklearn.metrics import mean_squared_error as MSE\n",
    "from sklearn.metrics import mean_absolute_error as MAE\n",
    "\n",
    "import warnings\n",
    "warnings.filterwarnings('ignore')"
   ]
  },
  {
   "cell_type": "code",
   "execution_count": 6,
   "metadata": {},
   "outputs": [
    {
     "data": {
      "text/html": [
       "<div>\n",
       "<style scoped>\n",
       "    .dataframe tbody tr th:only-of-type {\n",
       "        vertical-align: middle;\n",
       "    }\n",
       "\n",
       "    .dataframe tbody tr th {\n",
       "        vertical-align: top;\n",
       "    }\n",
       "\n",
       "    .dataframe thead th {\n",
       "        text-align: right;\n",
       "    }\n",
       "</style>\n",
       "<table border=\"1\" class=\"dataframe\">\n",
       "  <thead>\n",
       "    <tr style=\"text-align: right;\">\n",
       "      <th></th>\n",
       "      <th>jobId</th>\n",
       "      <th>companyId</th>\n",
       "      <th>jobType</th>\n",
       "      <th>degree</th>\n",
       "      <th>major</th>\n",
       "      <th>industry</th>\n",
       "      <th>yearsExperience</th>\n",
       "      <th>milesFromMetropolis</th>\n",
       "      <th>salary</th>\n",
       "    </tr>\n",
       "  </thead>\n",
       "  <tbody>\n",
       "    <tr>\n",
       "      <th>0</th>\n",
       "      <td>JOB1362684407687</td>\n",
       "      <td>COMP37</td>\n",
       "      <td>CFO</td>\n",
       "      <td>MASTERS</td>\n",
       "      <td>MATH</td>\n",
       "      <td>HEALTH</td>\n",
       "      <td>10</td>\n",
       "      <td>83</td>\n",
       "      <td>130</td>\n",
       "    </tr>\n",
       "    <tr>\n",
       "      <th>1</th>\n",
       "      <td>JOB1362684407688</td>\n",
       "      <td>COMP19</td>\n",
       "      <td>CEO</td>\n",
       "      <td>HIGH_SCHOOL</td>\n",
       "      <td>NONE</td>\n",
       "      <td>WEB</td>\n",
       "      <td>3</td>\n",
       "      <td>73</td>\n",
       "      <td>101</td>\n",
       "    </tr>\n",
       "    <tr>\n",
       "      <th>2</th>\n",
       "      <td>JOB1362684407689</td>\n",
       "      <td>COMP52</td>\n",
       "      <td>VICE_PRESIDENT</td>\n",
       "      <td>DOCTORAL</td>\n",
       "      <td>PHYSICS</td>\n",
       "      <td>HEALTH</td>\n",
       "      <td>10</td>\n",
       "      <td>38</td>\n",
       "      <td>137</td>\n",
       "    </tr>\n",
       "    <tr>\n",
       "      <th>3</th>\n",
       "      <td>JOB1362684407690</td>\n",
       "      <td>COMP38</td>\n",
       "      <td>MANAGER</td>\n",
       "      <td>DOCTORAL</td>\n",
       "      <td>CHEMISTRY</td>\n",
       "      <td>AUTO</td>\n",
       "      <td>8</td>\n",
       "      <td>17</td>\n",
       "      <td>142</td>\n",
       "    </tr>\n",
       "    <tr>\n",
       "      <th>4</th>\n",
       "      <td>JOB1362684407691</td>\n",
       "      <td>COMP7</td>\n",
       "      <td>VICE_PRESIDENT</td>\n",
       "      <td>BACHELORS</td>\n",
       "      <td>PHYSICS</td>\n",
       "      <td>FINANCE</td>\n",
       "      <td>8</td>\n",
       "      <td>16</td>\n",
       "      <td>163</td>\n",
       "    </tr>\n",
       "  </tbody>\n",
       "</table>\n",
       "</div>"
      ],
      "text/plain": [
       "              jobId companyId         jobType       degree      major  \\\n",
       "0  JOB1362684407687    COMP37             CFO      MASTERS       MATH   \n",
       "1  JOB1362684407688    COMP19             CEO  HIGH_SCHOOL       NONE   \n",
       "2  JOB1362684407689    COMP52  VICE_PRESIDENT     DOCTORAL    PHYSICS   \n",
       "3  JOB1362684407690    COMP38         MANAGER     DOCTORAL  CHEMISTRY   \n",
       "4  JOB1362684407691     COMP7  VICE_PRESIDENT    BACHELORS    PHYSICS   \n",
       "\n",
       "  industry  yearsExperience  milesFromMetropolis  salary  \n",
       "0   HEALTH               10                   83     130  \n",
       "1      WEB                3                   73     101  \n",
       "2   HEALTH               10                   38     137  \n",
       "3     AUTO                8                   17     142  \n",
       "4  FINANCE                8                   16     163  "
      ]
     },
     "execution_count": 6,
     "metadata": {},
     "output_type": "execute_result"
    }
   ],
   "source": [
    "# Load the training data set\n",
    "df = pd.read_csv('./derived_data/train_data_after_EDA.csv')\n",
    "df.head()"
   ]
  },
  {
   "cell_type": "code",
   "execution_count": 15,
   "metadata": {},
   "outputs": [],
   "source": [
    "for row in df:\n",
    "    df['compare_sal'] = df.salary > df.salary.shift()"
   ]
  },
  {
   "cell_type": "code",
   "execution_count": 16,
   "metadata": {},
   "outputs": [
    {
     "data": {
      "text/html": [
       "<div>\n",
       "<style scoped>\n",
       "    .dataframe tbody tr th:only-of-type {\n",
       "        vertical-align: middle;\n",
       "    }\n",
       "\n",
       "    .dataframe tbody tr th {\n",
       "        vertical-align: top;\n",
       "    }\n",
       "\n",
       "    .dataframe thead th {\n",
       "        text-align: right;\n",
       "    }\n",
       "</style>\n",
       "<table border=\"1\" class=\"dataframe\">\n",
       "  <thead>\n",
       "    <tr style=\"text-align: right;\">\n",
       "      <th></th>\n",
       "      <th>jobId</th>\n",
       "      <th>companyId</th>\n",
       "      <th>jobType</th>\n",
       "      <th>degree</th>\n",
       "      <th>major</th>\n",
       "      <th>industry</th>\n",
       "      <th>yearsExperience</th>\n",
       "      <th>milesFromMetropolis</th>\n",
       "      <th>salary</th>\n",
       "      <th>compare_sal</th>\n",
       "    </tr>\n",
       "  </thead>\n",
       "  <tbody>\n",
       "    <tr>\n",
       "      <th>0</th>\n",
       "      <td>JOB1362684407687</td>\n",
       "      <td>COMP37</td>\n",
       "      <td>CFO</td>\n",
       "      <td>MASTERS</td>\n",
       "      <td>MATH</td>\n",
       "      <td>HEALTH</td>\n",
       "      <td>10</td>\n",
       "      <td>83</td>\n",
       "      <td>130</td>\n",
       "      <td>False</td>\n",
       "    </tr>\n",
       "    <tr>\n",
       "      <th>1</th>\n",
       "      <td>JOB1362684407688</td>\n",
       "      <td>COMP19</td>\n",
       "      <td>CEO</td>\n",
       "      <td>HIGH_SCHOOL</td>\n",
       "      <td>NONE</td>\n",
       "      <td>WEB</td>\n",
       "      <td>3</td>\n",
       "      <td>73</td>\n",
       "      <td>101</td>\n",
       "      <td>False</td>\n",
       "    </tr>\n",
       "    <tr>\n",
       "      <th>2</th>\n",
       "      <td>JOB1362684407689</td>\n",
       "      <td>COMP52</td>\n",
       "      <td>VICE_PRESIDENT</td>\n",
       "      <td>DOCTORAL</td>\n",
       "      <td>PHYSICS</td>\n",
       "      <td>HEALTH</td>\n",
       "      <td>10</td>\n",
       "      <td>38</td>\n",
       "      <td>137</td>\n",
       "      <td>True</td>\n",
       "    </tr>\n",
       "    <tr>\n",
       "      <th>3</th>\n",
       "      <td>JOB1362684407690</td>\n",
       "      <td>COMP38</td>\n",
       "      <td>MANAGER</td>\n",
       "      <td>DOCTORAL</td>\n",
       "      <td>CHEMISTRY</td>\n",
       "      <td>AUTO</td>\n",
       "      <td>8</td>\n",
       "      <td>17</td>\n",
       "      <td>142</td>\n",
       "      <td>True</td>\n",
       "    </tr>\n",
       "    <tr>\n",
       "      <th>4</th>\n",
       "      <td>JOB1362684407691</td>\n",
       "      <td>COMP7</td>\n",
       "      <td>VICE_PRESIDENT</td>\n",
       "      <td>BACHELORS</td>\n",
       "      <td>PHYSICS</td>\n",
       "      <td>FINANCE</td>\n",
       "      <td>8</td>\n",
       "      <td>16</td>\n",
       "      <td>163</td>\n",
       "      <td>True</td>\n",
       "    </tr>\n",
       "  </tbody>\n",
       "</table>\n",
       "</div>"
      ],
      "text/plain": [
       "              jobId companyId         jobType       degree      major  \\\n",
       "0  JOB1362684407687    COMP37             CFO      MASTERS       MATH   \n",
       "1  JOB1362684407688    COMP19             CEO  HIGH_SCHOOL       NONE   \n",
       "2  JOB1362684407689    COMP52  VICE_PRESIDENT     DOCTORAL    PHYSICS   \n",
       "3  JOB1362684407690    COMP38         MANAGER     DOCTORAL  CHEMISTRY   \n",
       "4  JOB1362684407691     COMP7  VICE_PRESIDENT    BACHELORS    PHYSICS   \n",
       "\n",
       "  industry  yearsExperience  milesFromMetropolis  salary  compare_sal  \n",
       "0   HEALTH               10                   83     130        False  \n",
       "1      WEB                3                   73     101        False  \n",
       "2   HEALTH               10                   38     137         True  \n",
       "3     AUTO                8                   17     142         True  \n",
       "4  FINANCE                8                   16     163         True  "
      ]
     },
     "execution_count": 16,
     "metadata": {},
     "output_type": "execute_result"
    }
   ],
   "source": [
    "df.head()"
   ]
  },
  {
   "cell_type": "code",
   "execution_count": 3,
   "metadata": {},
   "outputs": [
    {
     "name": "stdout",
     "output_type": "stream",
     "text": [
      "Encoding complete\n"
     ]
    },
    {
     "data": {
      "text/html": [
       "<div>\n",
       "<style scoped>\n",
       "    .dataframe tbody tr th:only-of-type {\n",
       "        vertical-align: middle;\n",
       "    }\n",
       "\n",
       "    .dataframe tbody tr th {\n",
       "        vertical-align: top;\n",
       "    }\n",
       "\n",
       "    .dataframe thead th {\n",
       "        text-align: right;\n",
       "    }\n",
       "</style>\n",
       "<table border=\"1\" class=\"dataframe\">\n",
       "  <thead>\n",
       "    <tr style=\"text-align: right;\">\n",
       "      <th></th>\n",
       "      <th>jobId</th>\n",
       "      <th>companyId</th>\n",
       "      <th>jobType</th>\n",
       "      <th>degree</th>\n",
       "      <th>major</th>\n",
       "      <th>industry</th>\n",
       "      <th>yearsExperience</th>\n",
       "      <th>milesFromMetropolis</th>\n",
       "      <th>salary</th>\n",
       "    </tr>\n",
       "  </thead>\n",
       "  <tbody>\n",
       "    <tr>\n",
       "      <th>0</th>\n",
       "      <td>JOB1362684407687</td>\n",
       "      <td>31</td>\n",
       "      <td>1</td>\n",
       "      <td>3</td>\n",
       "      <td>6</td>\n",
       "      <td>3</td>\n",
       "      <td>10</td>\n",
       "      <td>83</td>\n",
       "      <td>130</td>\n",
       "    </tr>\n",
       "    <tr>\n",
       "      <th>1</th>\n",
       "      <td>JOB1362684407688</td>\n",
       "      <td>11</td>\n",
       "      <td>0</td>\n",
       "      <td>2</td>\n",
       "      <td>7</td>\n",
       "      <td>6</td>\n",
       "      <td>3</td>\n",
       "      <td>73</td>\n",
       "      <td>101</td>\n",
       "    </tr>\n",
       "    <tr>\n",
       "      <th>2</th>\n",
       "      <td>JOB1362684407689</td>\n",
       "      <td>48</td>\n",
       "      <td>7</td>\n",
       "      <td>1</td>\n",
       "      <td>8</td>\n",
       "      <td>3</td>\n",
       "      <td>10</td>\n",
       "      <td>38</td>\n",
       "      <td>137</td>\n",
       "    </tr>\n",
       "    <tr>\n",
       "      <th>3</th>\n",
       "      <td>JOB1362684407690</td>\n",
       "      <td>32</td>\n",
       "      <td>5</td>\n",
       "      <td>1</td>\n",
       "      <td>2</td>\n",
       "      <td>0</td>\n",
       "      <td>8</td>\n",
       "      <td>17</td>\n",
       "      <td>142</td>\n",
       "    </tr>\n",
       "    <tr>\n",
       "      <th>4</th>\n",
       "      <td>JOB1362684407691</td>\n",
       "      <td>60</td>\n",
       "      <td>7</td>\n",
       "      <td>0</td>\n",
       "      <td>8</td>\n",
       "      <td>2</td>\n",
       "      <td>8</td>\n",
       "      <td>16</td>\n",
       "      <td>163</td>\n",
       "    </tr>\n",
       "  </tbody>\n",
       "</table>\n",
       "</div>"
      ],
      "text/plain": [
       "              jobId  companyId  jobType  degree  major  industry  \\\n",
       "0  JOB1362684407687         31        1       3      6         3   \n",
       "1  JOB1362684407688         11        0       2      7         6   \n",
       "2  JOB1362684407689         48        7       1      8         3   \n",
       "3  JOB1362684407690         32        5       1      2         0   \n",
       "4  JOB1362684407691         60        7       0      8         2   \n",
       "\n",
       "   yearsExperience  milesFromMetropolis  salary  \n",
       "0               10                   83     130  \n",
       "1                3                   73     101  \n",
       "2               10                   38     137  \n",
       "3                8                   17     142  \n",
       "4                8                   16     163  "
      ]
     },
     "execution_count": 3,
     "metadata": {},
     "output_type": "execute_result"
    }
   ],
   "source": [
    "# List out all the columns we want to be label encoded\n",
    "cols_to_label = ['companyId','jobType', 'degree', 'major', 'industry']\n",
    "\n",
    "# Now using this PreProcessor class we will label encode the columns in cols_to_label\n",
    "label_enc = PreProcessor(cols_to_label)\n",
    "df = label_enc.fit_transform(df)\n",
    "df.head()\n",
    "#df.to_csv('./derived_data/train_final.csv', index=False)"
   ]
  },
  {
   "cell_type": "markdown",
   "metadata": {},
   "source": [
    "### Split into Train & Test Set for Model Tuning"
   ]
  },
  {
   "cell_type": "code",
   "execution_count": 4,
   "metadata": {},
   "outputs": [],
   "source": [
    "# Get a random subset of data for hyperparameter tuning\n",
    "df_sample = df.sample(frac=0.20, replace=True)"
   ]
  },
  {
   "cell_type": "code",
   "execution_count": 5,
   "metadata": {},
   "outputs": [],
   "source": [
    "X = df_sample.drop(['jobId', 'salary'], axis=1)\n",
    "y = df_sample.salary\n",
    "X_train, X_test, y_train, y_test = train_test_split(X, y, test_size=0.20, random_state=42)"
   ]
  },
  {
   "cell_type": "code",
   "execution_count": 6,
   "metadata": {},
   "outputs": [
    {
     "data": {
      "text/plain": [
       "(159999, 7)"
      ]
     },
     "execution_count": 6,
     "metadata": {},
     "output_type": "execute_result"
    }
   ],
   "source": [
    "X_train.shape"
   ]
  },
  {
   "cell_type": "markdown",
   "metadata": {},
   "source": [
    "## Random Forest Baseline Model (1)\n",
    "This model we fit is without any tuning in order to get an idea what best can we do for tuning to get a better generalized final model."
   ]
  },
  {
   "cell_type": "code",
   "execution_count": 9,
   "metadata": {},
   "outputs": [],
   "source": [
    "# Create the baseline \n",
    "model_base = RandomForestRegressor(n_estimators=20, oob_score = True, random_state=42)"
   ]
  },
  {
   "cell_type": "code",
   "execution_count": 10,
   "metadata": {},
   "outputs": [],
   "source": [
    "# Fit and Evaluate the baseline model\n",
    "model_base = model_base.fit(X_train, y_train)\n",
    "y_pred = model_base.predict(X_test)"
   ]
  },
  {
   "cell_type": "code",
   "execution_count": 11,
   "metadata": {},
   "outputs": [
    {
     "name": "stdout",
     "output_type": "stream",
     "text": [
      "The MSE of Base Model is 387.75143963015876 and OOB Score is 0.7198982077310951\n"
     ]
    }
   ],
   "source": [
    "# Calculate Mean Squared Error and OOB (Out-Of-Box) score \n",
    "print(\"The MSE of Base Model is {} and OOB Score is {}\".format(MSE(y_test, y_pred), model_base.oob_score_))"
   ]
  },
  {
   "cell_type": "markdown",
   "metadata": {},
   "source": [
    "## Tuning the Random Forest by hand\n",
    "### Tune Number of Trees\n",
    "For the start we will tune number of trees we will need to train our model."
   ]
  },
  {
   "cell_type": "code",
   "execution_count": 21,
   "metadata": {},
   "outputs": [
    {
     "name": "stdout",
     "output_type": "stream",
     "text": [
      "20 trees\n",
      "OOB Score: 0.7188530836492968\n",
      " \n",
      "40 trees\n",
      "OOB Score: 0.7403021357089166\n",
      " \n",
      "80 trees\n",
      "OOB Score: 0.7486812354735466\n",
      " \n",
      "150 trees\n",
      "OOB Score: 0.7531302803455211\n",
      " \n",
      "200 trees\n",
      "OOB Score: 0.7540450875777995\n",
      " \n",
      "350 trees\n",
      "OOB Score: 0.7555722582304055\n",
      " \n",
      "400 trees\n",
      "OOB Score: 0.755885989401021\n",
      " \n",
      "550 trees\n",
      "OOB Score: 0.7563849665952446\n",
      " \n",
      "800 trees\n",
      "OOB Score: 0.7568298883275906\n",
      " \n",
      "1000 trees\n",
      "OOB Score: 0.756995262845618\n",
      " \n"
     ]
    },
    {
     "data": {
      "image/png": "[encoded data removed]",
      "text/plain": [
       "<Figure size 432x288 with 1 Axes>"
      ]
     },
     "metadata": {
      "needs_background": "light"
     },
     "output_type": "display_data"
    }
   ],
   "source": [
    "results = []\n",
    "n_estimator_options = [20, 40, 80, 150, 200, 350, 400, 550, 800, 1000]\n",
    "\n",
    "for trees in n_estimator_options:\n",
    "    model = RandomForestRegressor(trees, n_jobs=-1, oob_score=True, random_state=42)\n",
    "    model.fit(X_train, y_train)\n",
    "    print(trees, 'trees')\n",
    "    OOB = model.oob_score_    #This is basically R2 score\n",
    "    #y_pred = model_base.predict(X_test)\n",
    "    #mae = MAE(y_test, y_pred)\n",
    "    #print('Mean Absolute Error : ', mae)\n",
    "    print('OOB Score:', OOB)\n",
    "    results.append(OOB)\n",
    "    print (\" \")\n",
    "    \n",
    "plt.plot(n_estimator_options, results, label='OOB Score')\n",
    "plt.xlabel('# of Trees')\n",
    "plt.ylabel('OOB Score')\n",
    "plt.title('OOB Score VS Trees')\n",
    "plt.legend(loc=\"lower right\")\n",
    "plt.show()"
   ]
  },
  {
   "cell_type": "markdown",
   "metadata": {},
   "source": [
    "Adding more number of trees between will give us the best results. If we notice in the graph, after 200 treee there is no significant improvement in the OOB score. Hence, for now with **200 trees** we will tune the next Hyperparameter.\n",
    "\n",
    "### Tune Max depth of the tree"
   ]
  },
  {
   "cell_type": "code",
   "execution_count": 12,
   "metadata": {},
   "outputs": [
    {
     "name": "stdout",
     "output_type": "stream",
     "text": [
      "Max_depth: 2\n",
      "Mean Absolute Error (Training) :  24.901855074262592\n",
      "Mean Absolute Error (Test) :  24.937937423689778\n",
      " \n",
      "Max_depth: 3\n",
      "Mean Absolute Error (Training) :  22.85283099019172\n",
      "Mean Absolute Error (Test) :  22.936848062427654\n",
      " \n",
      "Max_depth: 4\n",
      "Mean Absolute Error (Training) :  21.20189780045419\n",
      "Mean Absolute Error (Test) :  21.265783470784612\n",
      " \n",
      "Max_depth: 5\n",
      "Mean Absolute Error (Training) :  19.988275106082135\n",
      "Mean Absolute Error (Test) :  20.053877194032665\n",
      " \n",
      "Max_depth: 6\n",
      "Mean Absolute Error (Training) :  19.047430278651774\n",
      "Mean Absolute Error (Test) :  19.13193699733998\n",
      " \n",
      "Max_depth: 7\n",
      "Mean Absolute Error (Training) :  18.224882713481055\n",
      "Mean Absolute Error (Test) :  18.339546856464263\n",
      " \n",
      "Max_depth: 8\n",
      "Mean Absolute Error (Training) :  17.464671642483093\n",
      "Mean Absolute Error (Test) :  17.60639785266151\n",
      " \n",
      "Max_depth: 9\n",
      "Mean Absolute Error (Training) :  16.7700106194392\n",
      "Mean Absolute Error (Test) :  17.020757030780377\n",
      " \n",
      "Max_depth: 10\n",
      "Mean Absolute Error (Training) :  16.089830983708936\n",
      "Mean Absolute Error (Test) :  16.55006557263129\n",
      " \n",
      "Max_depth: 11\n",
      "Mean Absolute Error (Training) :  15.40067201412994\n",
      "Mean Absolute Error (Test) :  16.20900283786719\n",
      " \n",
      "Max_depth: 12\n",
      "Mean Absolute Error (Training) :  14.600874624316122\n",
      "Mean Absolute Error (Test) :  15.95907660986053\n",
      " \n",
      "Max_depth: 13\n",
      "Mean Absolute Error (Training) :  13.619582095923603\n",
      "Mean Absolute Error (Test) :  15.791951811639155\n",
      " \n",
      "Max_depth: 14\n",
      "Mean Absolute Error (Training) :  12.462764550423904\n",
      "Mean Absolute Error (Test) :  15.651657268897404\n",
      " \n"
     ]
    },
    {
     "data": {
      "image/png": "[encoded data removed]",
      "text/plain": [
       "<Figure size 432x288 with 1 Axes>"
      ]
     },
     "metadata": {
      "needs_background": "light"
     },
     "output_type": "display_data"
    }
   ],
   "source": [
    "results_train = []\n",
    "results_test = []\n",
    "max_depth_size = range(2, 15, 1)\n",
    "\n",
    "for depth in max_depth_size:\n",
    "    model = RandomForestRegressor(max_depth=depth, oob_score=True, n_jobs=-1, random_state=42)\n",
    "    model.fit(X_train, y_train)\n",
    "    print('Max_depth:', depth)\n",
    "    \n",
    "    y_pred_trn = model.predict(X_train)\n",
    "    y_pred_tst = model.predict(X_test)\n",
    "    \n",
    "    mae_trn = MAE(y_train, y_pred_trn)\n",
    "    mae_tst = MAE(y_test, y_pred_tst)\n",
    "    print('Mean Absolute Error (Training) : ', mae_trn)\n",
    "    print('Mean Absolute Error (Test) : ', mae_tst)\n",
    "    \n",
    "    results_train.append(mae_trn)\n",
    "    results_test.append(mae_tst)\n",
    "    print (\" \")\n",
    "    \n",
    "plt.plot(max_depth_size, results_train, label='Training Set')\n",
    "plt.plot(max_depth_size, results_test, label='Test Set')\n",
    "plt.xlabel('Max Depth Size')\n",
    "plt.ylabel('Mean Absolute Error')\n",
    "plt.title('MAE VS max_depth_size')\n",
    "plt.legend(loc=\"lower right\")\n",
    "plt.show()"
   ]
  },
  {
   "cell_type": "markdown",
   "metadata": {},
   "source": [
    "Concluding Max depth between 9-12 is perfect to avoid overfitting. The reason for this is as we increase the depth size, a tree is prone to overfitting in other words the gap between train and test error starts growing. So we can go with a value between 9-12 depth size which will avoid overfitting. \n",
    "\n",
    "### Tuning the Max_feature to select the strategy for optimal number of features in each tree"
   ]
  },
  {
   "cell_type": "code",
   "execution_count": 20,
   "metadata": {},
   "outputs": [
    {
     "name": "stdout",
     "output_type": "stream",
     "text": [
      "auto option\n",
      "OOB Score:  0.7496938400726905\n",
      " \n",
      "None option\n",
      "OOB Score:  0.7496938400726905\n",
      " \n",
      "sqrt option\n",
      "OOB Score:  0.7570382750682347\n",
      " \n",
      "log2 option\n",
      "OOB Score:  0.7570382750682347\n",
      " \n",
      "0.7 option\n",
      "OOB Score:  0.7542836653642881\n",
      " \n",
      "0.2 option\n",
      "OOB Score:  0.7517895682042839\n",
      " \n"
     ]
    },
    {
     "data": {
      "text/plain": [
       "<matplotlib.axes._subplots.AxesSubplot at 0x1a1c2e9828>"
      ]
     },
     "execution_count": 20,
     "metadata": {},
     "output_type": "execute_result"
    },
    {
     "data": {
      "image/png": "[encoded data removed]",
      "text/plain": [
       "<Figure size 432x288 with 1 Axes>"
      ]
     },
     "metadata": {
      "needs_background": "light"
     },
     "output_type": "display_data"
    }
   ],
   "source": [
    "results = []\n",
    "max_features_options = [\"auto\", None, \"sqrt\", \"log2\", 0.7, 0.2]\n",
    "\n",
    "for max_features in max_features_options:\n",
    "    model = RandomForestRegressor(max_features=max_features, n_estimators = 80,\n",
    "                                  oob_score=True, n_jobs=-1, random_state=42)\n",
    "    \n",
    "    model.fit(X_train, y_train)\n",
    "    print(max_features, \"option\")\n",
    "    OOB = model.oob_score_\n",
    "    print('OOB Score: ', OOB)\n",
    "    results.append(OOB)\n",
    "    print (\" \")\n",
    "    \n",
    "pd.Series(results, max_features_options).plot(kind='barh')"
   ]
  },
  {
   "cell_type": "markdown",
   "metadata": {},
   "source": [
    "### Tuning Min Sample Leafs"
   ]
  },
  {
   "cell_type": "code",
   "execution_count": 15,
   "metadata": {},
   "outputs": [
    {
     "name": "stdout",
     "output_type": "stream",
     "text": [
      "1 min samples\n",
      "OOB Score:  0.5791804903694369\n",
      " \n",
      "3 min samples\n",
      "OOB Score:  0.6058617727199299\n",
      " \n",
      "5 min samples\n",
      "OOB Score:  0.6176940986727639\n",
      " \n",
      "7 min samples\n",
      "OOB Score:  0.6226057631593247\n",
      " \n",
      "9 min samples\n",
      "OOB Score:  0.625960964703411\n",
      " \n",
      "11 min samples\n",
      "OOB Score:  0.6280118209751315\n",
      " \n",
      "13 min samples\n",
      "OOB Score:  0.6292660418504824\n",
      " \n",
      "15 min samples\n",
      "OOB Score:  0.6300629533867638\n",
      " \n",
      "17 min samples\n",
      "OOB Score:  0.630411217972242\n",
      " \n",
      "19 min samples\n",
      "OOB Score:  0.6304303618893956\n",
      " \n",
      "21 min samples\n",
      "OOB Score:  0.6305589625014716\n",
      " \n",
      "23 min samples\n",
      "OOB Score:  0.6303855278553594\n",
      " \n",
      "25 min samples\n",
      "OOB Score:  0.6303481454535482\n",
      " \n",
      "27 min samples\n",
      "OOB Score:  0.6298857981813719\n",
      " \n",
      "29 min samples\n",
      "OOB Score:  0.6293176717443478\n",
      " \n",
      "31 min samples\n",
      "OOB Score:  0.6287547496307877\n",
      " \n",
      "33 min samples\n",
      "OOB Score:  0.6284913465559978\n",
      " \n",
      "35 min samples\n",
      "OOB Score:  0.6280636437771601\n",
      " \n"
     ]
    },
    {
     "data": {
      "text/plain": [
       "<matplotlib.axes._subplots.AxesSubplot at 0x1a1f094908>"
      ]
     },
     "execution_count": 15,
     "metadata": {},
     "output_type": "execute_result"
    },
    {
     "data": {
      "image/png": "[encoded data removed]",
      "text/plain": [
       "<Figure size 432x288 with 1 Axes>"
      ]
     },
     "metadata": {
      "needs_background": "light"
     },
     "output_type": "display_data"
    }
   ],
   "source": [
    "results = []\n",
    "min_samples_leaf_options = range(1,36, 2)\n",
    "\n",
    "for min_samples in min_samples_leaf_options:\n",
    "    model = RandomForestRegressor(min_samples_leaf=min_samples, \n",
    "                                  oob_score=True, n_jobs=-1, random_state=42) \n",
    "    \n",
    "    model.fit(X_train, y_train)\n",
    "    print(min_samples, \"min samples\")\n",
    "    OOB = model.oob_score_\n",
    "    print('OOB Score: ', OOB)\n",
    "    results.append(OOB)\n",
    "    print (\" \")\n",
    "    \n",
    "pd.Series(results, min_samples_leaf_options).plot()"
   ]
  },
  {
   "cell_type": "code",
   "execution_count": 28,
   "metadata": {},
   "outputs": [
    {
     "name": "stdout",
     "output_type": "stream",
     "text": [
      "2 min samples split\n",
      "OOB Score:  0.5791804903694369\n",
      " \n",
      "8 min samples split\n",
      "OOB Score:  0.6008545815008705\n",
      " \n",
      "14 min samples split\n",
      "OOB Score:  0.6128645863724289\n",
      " \n",
      "20 min samples split\n",
      "OOB Score:  0.6198007042331073\n",
      " \n",
      "26 min samples split\n",
      "OOB Score:  0.623347065953874\n",
      " \n",
      "32 min samples split\n",
      "OOB Score:  0.6258377143945408\n",
      " \n",
      "38 min samples split\n",
      "OOB Score:  0.6274899925044051\n",
      " \n",
      "44 min samples split\n",
      "OOB Score:  0.6281726077663717\n",
      " \n",
      "50 min samples split\n",
      "OOB Score:  0.6286131988601049\n",
      " \n",
      "56 min samples split\n",
      "OOB Score:  0.6286973368657992\n",
      " \n",
      "62 min samples split\n",
      "OOB Score:  0.6286147203033274\n",
      " \n"
     ]
    },
    {
     "data": {
      "text/plain": [
       "<matplotlib.axes._subplots.AxesSubplot at 0x1a1a002be0>"
      ]
     },
     "execution_count": 28,
     "metadata": {},
     "output_type": "execute_result"
    },
    {
     "data": {
      "image/png": "[encoded data removed]",
      "text/plain": [
       "<Figure size 432x288 with 1 Axes>"
      ]
     },
     "metadata": {
      "needs_background": "light"
     },
     "output_type": "display_data"
    }
   ],
   "source": [
    "results = []\n",
    "split_options = range(2,64, 6)\n",
    "\n",
    "for min_split in split_options:\n",
    "    model = RandomForestRegressor(min_samples_split=min_split, \n",
    "                                  oob_score=True, n_jobs=-1, random_state=42) \n",
    "    \n",
    "    model.fit(X_train, y_train)\n",
    "    print(min_split, \"min samples split\")\n",
    "    OOB = model.oob_score_\n",
    "    print('OOB Score: ', OOB)\n",
    "    results.append(OOB)\n",
    "    print (\" \")\n",
    "    \n",
    "pd.Series(results, split_options).plot()"
   ]
  },
  {
   "cell_type": "markdown",
   "metadata": {},
   "source": [
    "### Final Model"
   ]
  },
  {
   "cell_type": "code",
   "execution_count": 29,
   "metadata": {},
   "outputs": [],
   "source": [
    "X = df.drop(['jobId', 'salary'], axis=1)\n",
    "y = df.salary\n",
    "X_train, X_test, y_train, y_test = train_test_split(X, y, test_size=0.20, random_state=42)\n",
    "X_train, X_test, y_train, y_test = X_train.to_numpy(), X_test.to_numpy(), y_train.to_numpy(), y_test.to_numpy()"
   ]
  },
  {
   "cell_type": "code",
   "execution_count": 30,
   "metadata": {},
   "outputs": [
    {
     "data": {
      "text/plain": [
       "(799996, 7)"
      ]
     },
     "execution_count": 30,
     "metadata": {},
     "output_type": "execute_result"
    }
   ],
   "source": [
    "X_train.shape"
   ]
  },
  {
   "cell_type": "code",
   "execution_count": 32,
   "metadata": {},
   "outputs": [
    {
     "name": "stdout",
     "output_type": "stream",
     "text": [
      "Mean Squared Error (Training) :  400.3112523926108\n",
      "Mean Squared Error (Test) :  410.2968978007859\n"
     ]
    }
   ],
   "source": [
    "model = RandomForestRegressor(n_estimators = 300, max_depth=12, max_features='sqrt', min_samples_leaf=15, min_samples_split=26,\n",
    "                                  oob_score=True, n_jobs=-1, random_state=42)\n",
    "    \n",
    "model.fit(X_train, y_train)\n",
    "\n",
    "y_pred_trn = model.predict(X_train)\n",
    "y_pred_tst = model.predict(X_test)\n",
    "    \n",
    "mse_trn = MSE(y_train, y_pred_trn)\n",
    "mse_tst = MSE(y_test, y_pred_tst)\n",
    "\n",
    "print('Mean Squared Error (Training) : ', mse_trn)\n",
    "print('Mean Squared Error (Test) : ', mse_tst)"
   ]
  },
  {
   "cell_type": "code",
   "execution_count": 17,
   "metadata": {},
   "outputs": [],
   "source": [
    "def evaluate(model, test_features, test_labels):\n",
    "    predictions = model.predict(test_features)\n",
    "    errors = abs(predictions - test_labels)\n",
    "    mape = 100 * np.mean(errors / test_labels)\n",
    "    accuracy = 100 - mape\n",
    "    print('Model Performance')\n",
    "    print('Average Error: {:0.4f} degrees.'.format(np.mean(errors)))\n",
    "    print('Accuracy = {:0.2f}%.'.format(accuracy))\n",
    "    \n",
    "    return accuracy"
   ]
  },
  {
   "cell_type": "code",
   "execution_count": 37,
   "metadata": {},
   "outputs": [
    {
     "name": "stdout",
     "output_type": "stream",
     "text": [
      "Model Performance\n",
      "Average Error: 16.3233 degrees.\n",
      "Accuracy = 85.07%.\n"
     ]
    }
   ],
   "source": [
    "model_accuracy = evaluate(model, X_test, y_test)"
   ]
  },
  {
   "cell_type": "code",
   "execution_count": 39,
   "metadata": {},
   "outputs": [
    {
     "data": {
      "text/plain": [
       "0.7253286652531346"
      ]
     },
     "execution_count": 39,
     "metadata": {},
     "output_type": "execute_result"
    }
   ],
   "source": [
    "model.oob_score_"
   ]
  },
  {
   "cell_type": "code",
   "execution_count": 38,
   "metadata": {},
   "outputs": [
    {
     "name": "stdout",
     "output_type": "stream",
     "text": [
      "Model Performance\n",
      "Average Error: 15.0280 degrees.\n",
      "Accuracy = 86.58%.\n"
     ]
    }
   ],
   "source": [
    "base_accuracy = evaluate(model_base, X_test, y_test)"
   ]
  },
  {
   "cell_type": "code",
   "execution_count": 42,
   "metadata": {},
   "outputs": [],
   "source": [
    "from sklearn.model_selection import GridSearchCV\n",
    "# Create the parameter grid based on the results of random search \n",
    "param_grid = {\n",
    "    'max_depth': [2,3,5],\n",
    "    'min_samples_leaf': [2,3,4,6],\n",
    "    'min_samples_split': [8, 10, 12],\n",
    "    'n_estimators': [20, 40, 80, 150, 200, 350, 400, 550, 800, 1000]\n",
    "}\n",
    "# Create a based model\n",
    "rf = RandomForestRegressor()\n",
    "# Instantiate the grid search model\n",
    "grid_search = GridSearchCV(estimator = rf, param_grid = param_grid, \n",
    "                          cv = 3, n_jobs = -1, verbose = 2)"
   ]
  },
  {
   "cell_type": "code",
   "execution_count": null,
   "metadata": {},
   "outputs": [],
   "source": [
    "grid_search.fit(X_train, y_train)"
   ]
  },
  {
   "cell_type": "code",
   "execution_count": null,
   "metadata": {},
   "outputs": [],
   "source": [
    "grid_search.best_params_"
   ]
  },
  {
   "cell_type": "code",
   "execution_count": null,
   "metadata": {},
   "outputs": [],
   "source": [
    "best_grid = grid_search.best_estimator_\n",
    "grid_accuracy = evaluate(best_grid, X_test, y_test)\n",
    "\n",
    "print('Improvement of {:0.2f}%.'.format( 100 * (grid_accuracy - base_accuracy) / base_accuracy))"
   ]
  },
  {
   "cell_type": "code",
   "execution_count": null,
   "metadata": {},
   "outputs": [],
   "source": []
  }
 ],
 "metadata": {
  "kernelspec": {
   "display_name": "Python 3",
   "language": "python",
   "name": "python3"
  },
  "language_info": {
   "codemirror_mode": {
    "name": "ipython",
    "version": 3
   },
   "file_extension": ".py",
   "mimetype": "text/x-python",
   "name": "python",
   "nbconvert_exporter": "python",
   "pygments_lexer": "ipython3",
   "version": "3.7.3"
  }
 },
 "nbformat": 4,
 "nbformat_minor": 4
}
